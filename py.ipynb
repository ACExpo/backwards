{
    "metadata": {
        "kernelspec": {
            "name": "python3",
            "display_name": "Python 3 (ipykernel)",
            "language": "python"
        }
    },
    "nbformat": 4,
    "nbformat_minor": 2,
    "cells": [
        {
            "cell_type": "code",
            "execution_count": 40,
            "metadata": {},
            "outputs": [
                {
                    "name": "stdout",
                    "output_type": "stream",
                    "text": "Hello dlrow\nHello world\n"
                }
            ],
            "source": [
                "s = (\"olleH dlrow\")\n",
                "s = s.split()\n",
                "for i in range(len(s)):\n",
                "    s[i]=s[i][::-1]\n",
                "    print(\" \".join(s))\n",
                "    "
            ]
        }
    ]
}
